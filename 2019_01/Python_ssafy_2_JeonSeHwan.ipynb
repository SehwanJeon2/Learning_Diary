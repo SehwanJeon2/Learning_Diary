{
 "cells": [
  {
   "cell_type": "markdown",
   "metadata": {},
   "source": [
    "* 두 개의 정수 n, m이 주어집니다. 반복문을 사용하지 않고 별(*) 문자를 이용해 가로의 길이가 n, 세로의 길이가 m인 직사각형 형태를 출력해보세요."
   ]
  },
  {
   "cell_type": "code",
   "execution_count": 3,
   "metadata": {},
   "outputs": [],
   "source": [
    "# 문제\n",
    "n = 5\n",
    "m = 9"
   ]
  },
  {
   "cell_type": "code",
   "execution_count": 11,
   "metadata": {},
   "outputs": [
    {
     "name": "stdout",
     "output_type": "stream",
     "text": [
      "* * * * * \n",
      "\n",
      "* * * * * \n",
      "\n",
      "* * * * * \n",
      "\n",
      "* * * * * \n",
      "\n",
      "* * * * * \n",
      "\n",
      "* * * * * \n",
      "\n",
      "* * * * * \n",
      "\n",
      "* * * * * \n",
      "\n",
      "* * * * * \n",
      "\n"
     ]
    }
   ],
   "source": [
    "# 정답\n",
    "n=5\n",
    "m=9\n",
    "a=0\n",
    "b=0\n",
    "while a<m:\n",
    "    while b<n:\n",
    "        print(\"*\", end=\" \")\n",
    "        b+=1\n",
    "    print(\"\\n\")\n",
    "    b=0\n",
    "    a+=1"
   ]
  },
  {
   "cell_type": "markdown",
   "metadata": {},
   "source": [
    "* 다음 딕셔너리에서 평균 점수를 출력하시오."
   ]
  },
  {
   "cell_type": "code",
   "execution_count": null,
   "metadata": {},
   "outputs": [],
   "source": [
    "# 문제\n",
    "student = {'python': 80, 'algorithm': 99, 'django': 89, 'flask': 83}"
   ]
  },
  {
   "cell_type": "code",
   "execution_count": 13,
   "metadata": {},
   "outputs": [
    {
     "name": "stdout",
     "output_type": "stream",
     "text": [
      "평균점수 = 87.75\n"
     ]
    }
   ],
   "source": [
    "# 정답\n",
    "student = {'python': 80, 'algorithm': 99, 'django': 89, 'flask': 83}\n",
    "sum=0\n",
    "count=0\n",
    "for i in student.values():\n",
    "    sum+=i\n",
    "    count+=1\n",
    "print(\"평균점수 = {}\".format(sum/count))"
   ]
  },
  {
   "cell_type": "markdown",
   "metadata": {},
   "source": [
    "* 다음은 학생들의 혈액형(A, B, AB, O)에 대한 데이터이다. for문을 이용하여 각 혈액형 별 학생수의 합계를 구하시오."
   ]
  },
  {
   "cell_type": "code",
   "execution_count": 14,
   "metadata": {},
   "outputs": [],
   "source": [
    "# 문제\n",
    "blood_types = ['A', 'B', 'A', 'O', 'AB', 'O', 'A', 'B', 'O', 'B', 'AB']"
   ]
  },
  {
   "cell_type": "code",
   "execution_count": 17,
   "metadata": {},
   "outputs": [
    {
     "name": "stdout",
     "output_type": "stream",
     "text": [
      "A형 3명\n",
      "B형 3명\n",
      "AB형 2명\n",
      "O형 3명\n"
     ]
    }
   ],
   "source": [
    "# 정답\n",
    "blood_types = ['A', 'B', 'A', 'O', 'AB', 'O', 'A', 'B', 'O', 'B', 'AB']\n",
    "a=0\n",
    "b=0\n",
    "ab=0\n",
    "o=0\n",
    "for bt in blood_types:\n",
    "    if bt==\"A\":\n",
    "        a+=1\n",
    "    elif bt==\"B\":\n",
    "        b+=1\n",
    "    elif bt==\"AB\":\n",
    "        ab+=1\n",
    "    else:\n",
    "        o+=1\n",
    "print(f\"A형 {a}명\\nB형 {b}명\\nAB형 {ab}명\\nO형 {o}명\")"
   ]
  }
 ],
 "metadata": {
  "kernelspec": {
   "display_name": "Python 3",
   "language": "python",
   "name": "python3"
  },
  "language_info": {
   "codemirror_mode": {
    "name": "ipython",
    "version": 3
   },
   "file_extension": ".py",
   "mimetype": "text/x-python",
   "name": "python",
   "nbconvert_exporter": "python",
   "pygments_lexer": "ipython3",
   "version": "3.6.7"
  }
 },
 "nbformat": 4,
 "nbformat_minor": 2
}
